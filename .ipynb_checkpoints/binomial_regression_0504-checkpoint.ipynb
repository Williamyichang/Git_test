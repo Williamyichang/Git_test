{
 "cells": [
  {
   "cell_type": "code",
   "execution_count": 21,
   "metadata": {},
   "outputs": [
    {
     "name": "stdout",
     "output_type": "stream",
     "text": [
      "[235. 216. 148.  35.  85. 204.  49.  25. 173. 191. 134.  99. 117. 112.\n",
      " 162. 272.]\n",
      "100 time : theta0 = 255.067, theta1 = 77.986, theta2 = 111.562, diff= 1446.0135, error=107196.1060\n",
      "200 time : theta0 = 329.268, theta1 = 93.843, theta2 = 70.718, diff= 365.8775, error=30107.7661\n",
      "300 time : theta0 = 367.184, theta1 = 97.353, theta2 = 48.275, diff= 98.0123, error=9931.0748\n",
      "400 time : theta0 = 386.894, theta1 = 98.237, theta2 = 36.596, diff= 26.4413, error=4505.0530\n",
      "500 time : theta0 = 397.141, theta1 = 98.509, theta2 = 30.526, diff= 7.1407, error=3040.4026\n",
      "600 time : theta0 = 402.467, theta1 = 98.612, theta2 = 27.371, diff= 1.9287, error=2644.8308\n",
      "700 time : theta0 = 405.235, theta1 = 98.659, theta2 = 25.731, diff= 0.5209, error=2537.9863\n",
      "800 time : theta0 = 406.674, theta1 = 98.682, theta2 = 24.879, diff= 0.1407, error=2509.1272\n",
      "900 time : theta0 = 407.421, theta1 = 98.693, theta2 = 24.436, diff= 0.0380, error=2501.3322\n",
      "1000 time : theta0 = 407.810, theta1 = 98.699, theta2 = 24.206, diff= 0.0103, error=2499.2267\n",
      "1100 time : theta0 = 408.012, theta1 = 98.702, theta2 = 24.087, diff= 0.0028, error=2498.6580\n"
     ]
    },
    {
     "data": {
      "image/png": "[encoded data removed]",
      "text/plain": [
       "<Figure size 432x288 with 1 Axes>"
      ]
     },
     "metadata": {
      "needs_background": "light"
     },
     "output_type": "display_data"
    }
   ],
   "source": [
    "# to use quadratic function for prediction function\n",
    "import numpy as np\n",
    "import matplotlib.pyplot as plt\n",
    "import csv\n",
    "import time\n",
    "x = [235,216,148,35,85,204,49,25,173,191,134,99,117,112,162,272]\n",
    "y = [591,539,413,310,308,519,325,332,498,498,392,334,385,387,425,659]\n",
    "x = np.array(x)\n",
    "y = np.array(y)\n",
    "\n",
    "\n",
    "with open('click.csv', mode='w' ,newline='', encoding='utf-8') as csvfile:\n",
    "    writer = csv.writer(csvfile, delimiter=',')\n",
    "    writer.writerow(['x', 'y'])\n",
    "    for row in range(len(x)):\n",
    "        writer.writerow([x[row], y[row]])\n",
    "# load data for training        \n",
    "train = np.loadtxt('click.csv', delimiter=',', skiprows=1)\n",
    "\n",
    "train_x = train[:,0]\n",
    "train_y = train[:,1]\n",
    "print(train_x)\n",
    "\n",
    "# initial theta for prediction function\n",
    "theta0 = np.random.rand()\n",
    "theta1 = np.random.rand()\n",
    "theta2 = np.random.rand()\n",
    "\n",
    "#define prediction function \n",
    "\n",
    "def f(x):\n",
    "    return theta0 + theta1*x + theta2*(x**2)\n",
    "\n",
    "#define loss function or cost function(also can call 'target function')\n",
    "\n",
    "def E(x,y):\n",
    "    return 0.5*np.sum((f(x)-y)**2)\n",
    "\n",
    "# need to standardization for x, it will let convergence faster\n",
    "mean = train_x.mean()\n",
    "sigma = train_x.std()\n",
    "\n",
    "\n",
    "def standardization(x):\n",
    "    return (x-mean)/sigma\n",
    "\n",
    "train_z = standardization(train_x)\n",
    "#define diff for initial data\n",
    "diff = 1\n",
    "\n",
    "learning_rate = 0.001\n",
    "\n",
    "count = 0\n",
    "# to give error for caculate diff\n",
    "\n",
    "error = E(train_z, train_y)\n",
    "\n",
    "while diff > 1e-3:\n",
    "    \n",
    "    tmp0 = theta0 - learning_rate*np.sum((f(train_z)-y))\n",
    "    tmp1 = theta1 - learning_rate*np.sum((f(train_z)-y)*train_z)\n",
    "    tmp2 = theta2 - learning_rate*np.sum((f(train_z)-y)*train_z**2)\n",
    "    \n",
    "    theta0 = tmp0\n",
    "    theta1 = tmp1\n",
    "    theta2 = tmp2\n",
    "    \n",
    "    #to update diff by reduce error\n",
    "    current_error = E(train_z, train_y)\n",
    "    diff = error-current_error\n",
    "    error = current_error\n",
    "    \n",
    "    count +=1\n",
    "    if count%100 ==0:\n",
    "        log = '{} time : theta0 = {:.3f}, theta1 = {:.3f}, theta2 = {:.3f}, diff= {:.4f}, error={:.4f}'\n",
    "        print(log.format(count, theta0, theta1, theta2, diff,error))\n",
    "    \n",
    "x = np.linspace(-3,3,100)\n",
    "# plot real data\n",
    "plt.plot(train_z, train_y, 'o')\n",
    "# plot predict line\n",
    "plt.plot(x, f(x))\n",
    "plt.show()\n",
    "\n",
    "# to implement the input dat to get the output of prediction(need to take care is input data need to standardization)\n",
    "test_x = np.loadtxt('test.csv', delimiter=',',skiprows=1)\n",
    "\n",
    "for i in range(len(test_x)):\n",
    "    with open('test_1.csv', mode='w', newline='') as resultcsv:\n",
    "        writer = csv.writer(resultcsv, delimiter=',')\n",
    "        writer.writerow(['x','y'])\n",
    "        for row in range(len(test_x)):\n",
    "            writer.writerow([int(test_x[row]),f(standardization(test_x[row]))])\n",
    "    #print(f(standardization(test_x[i])))\n",
    "#For git-cola test\n",
    "#For git-cola test-2"
   ]
  },
  {
   "cell_type": "code",
   "execution_count": null,
   "metadata": {},
   "outputs": [],
   "source": []
  },
  {
   "cell_type": "code",
   "execution_count": null,
   "metadata": {},
   "outputs": [],
   "source": []
  },
  {
   "cell_type": "code",
   "execution_count": null,
   "metadata": {},
   "outputs": [],
   "source": []
  }
 ],
 "metadata": {
  "kernelspec": {
   "display_name": "Python 3",
   "language": "python",
   "name": "python3"
  },
  "language_info": {
   "codemirror_mode": {
    "name": "ipython",
    "version": 3
   },
   "file_extension": ".py",
   "mimetype": "text/x-python",
   "name": "python",
   "nbconvert_exporter": "python",
   "pygments_lexer": "ipython3",
   "version": "3.6.7"
  }
 },
 "nbformat": 4,
 "nbformat_minor": 2
}
