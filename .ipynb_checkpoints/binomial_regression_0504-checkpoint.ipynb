{
 "cells": [
  {
   "cell_type": "code",
   "execution_count": 1,
   "metadata": {},
   "outputs": [
    {
     "name": "stdout",
     "output_type": "stream",
     "text": [
      "[235. 216. 148.  35.  85. 204.  49.  25. 173. 191. 134.  99. 117. 112.\n",
      " 162. 272.]\n",
      "100 time : theta0 = 254.962, theta1 = 77.944, theta2 = 111.624, diff= 1448.2632, error=107348.8268\n",
      "200 time : theta0 = 329.214, theta1 = 93.834, theta2 = 70.750, diff= 366.3941, error=30146.2768\n",
      "300 time : theta0 = 367.155, theta1 = 97.351, theta2 = 48.292, diff= 98.1483, error=9941.3687\n",
      "400 time : theta0 = 386.880, theta1 = 98.236, theta2 = 36.604, diff= 26.4779, error=4507.8291\n",
      "500 time : theta0 = 397.133, theta1 = 98.508, theta2 = 30.530, diff= 7.1505, error=3041.1523\n",
      "600 time : theta0 = 402.463, theta1 = 98.612, theta2 = 27.373, diff= 1.9313, error=2645.0332\n",
      "700 time : theta0 = 405.233, theta1 = 98.659, theta2 = 25.733, diff= 0.5217, error=2538.0410\n",
      "800 time : theta0 = 406.672, theta1 = 98.682, theta2 = 24.880, diff= 0.1409, error=2509.1419\n",
      "900 time : theta0 = 407.421, theta1 = 98.693, theta2 = 24.437, diff= 0.0381, error=2501.3361\n",
      "1000 time : theta0 = 407.810, theta1 = 98.699, theta2 = 24.206, diff= 0.0103, error=2499.2278\n",
      "1100 time : theta0 = 408.012, theta1 = 98.702, theta2 = 24.087, diff= 0.0028, error=2498.6583\n"
     ]
    },
    {
     "data": {
      "text/plain": [
       "<Figure size 640x480 with 1 Axes>"
      ]
     },
     "metadata": {},
     "output_type": "display_data"
    },
    {
     "ename": "OSError",
     "evalue": "test.csv not found.",
     "output_type": "error",
     "traceback": [
      "\u001b[0;31m---------------------------------------------------------------------------\u001b[0m",
      "\u001b[0;31mOSError\u001b[0m                                   Traceback (most recent call last)",
      "\u001b[0;32m<ipython-input-1-992962b43865>\u001b[0m in \u001b[0;36m<module>\u001b[0;34m\u001b[0m\n\u001b[1;32m     85\u001b[0m \u001b[0;34m\u001b[0m\u001b[0m\n\u001b[1;32m     86\u001b[0m \u001b[0;31m# to implement the input dat to get the output of prediction(need to take care is input data need to standardization)\u001b[0m\u001b[0;34m\u001b[0m\u001b[0;34m\u001b[0m\u001b[0;34m\u001b[0m\u001b[0m\n\u001b[0;32m---> 87\u001b[0;31m \u001b[0mtest_x\u001b[0m \u001b[0;34m=\u001b[0m \u001b[0mnp\u001b[0m\u001b[0;34m.\u001b[0m\u001b[0mloadtxt\u001b[0m\u001b[0;34m(\u001b[0m\u001b[0;34m'test.csv'\u001b[0m\u001b[0;34m,\u001b[0m \u001b[0mdelimiter\u001b[0m\u001b[0;34m=\u001b[0m\u001b[0;34m','\u001b[0m\u001b[0;34m,\u001b[0m\u001b[0mskiprows\u001b[0m\u001b[0;34m=\u001b[0m\u001b[0;36m1\u001b[0m\u001b[0;34m)\u001b[0m\u001b[0;34m\u001b[0m\u001b[0;34m\u001b[0m\u001b[0m\n\u001b[0m\u001b[1;32m     88\u001b[0m \u001b[0;34m\u001b[0m\u001b[0m\n\u001b[1;32m     89\u001b[0m \u001b[0;32mfor\u001b[0m \u001b[0mi\u001b[0m \u001b[0;32min\u001b[0m \u001b[0mrange\u001b[0m\u001b[0;34m(\u001b[0m\u001b[0mlen\u001b[0m\u001b[0;34m(\u001b[0m\u001b[0mtest_x\u001b[0m\u001b[0;34m)\u001b[0m\u001b[0;34m)\u001b[0m\u001b[0;34m:\u001b[0m\u001b[0;34m\u001b[0m\u001b[0;34m\u001b[0m\u001b[0m\n",
      "\u001b[0;32m~/.local/lib/python3.6/site-packages/numpy/lib/npyio.py\u001b[0m in \u001b[0;36mloadtxt\u001b[0;34m(fname, dtype, comments, delimiter, converters, skiprows, usecols, unpack, ndmin, encoding)\u001b[0m\n\u001b[1;32m    915\u001b[0m             \u001b[0mfname\u001b[0m \u001b[0;34m=\u001b[0m \u001b[0mstr\u001b[0m\u001b[0;34m(\u001b[0m\u001b[0mfname\u001b[0m\u001b[0;34m)\u001b[0m\u001b[0;34m\u001b[0m\u001b[0;34m\u001b[0m\u001b[0m\n\u001b[1;32m    916\u001b[0m         \u001b[0;32mif\u001b[0m \u001b[0m_is_string_like\u001b[0m\u001b[0;34m(\u001b[0m\u001b[0mfname\u001b[0m\u001b[0;34m)\u001b[0m\u001b[0;34m:\u001b[0m\u001b[0;34m\u001b[0m\u001b[0;34m\u001b[0m\u001b[0m\n\u001b[0;32m--> 917\u001b[0;31m             \u001b[0mfh\u001b[0m \u001b[0;34m=\u001b[0m \u001b[0mnp\u001b[0m\u001b[0;34m.\u001b[0m\u001b[0mlib\u001b[0m\u001b[0;34m.\u001b[0m\u001b[0m_datasource\u001b[0m\u001b[0;34m.\u001b[0m\u001b[0mopen\u001b[0m\u001b[0;34m(\u001b[0m\u001b[0mfname\u001b[0m\u001b[0;34m,\u001b[0m \u001b[0;34m'rt'\u001b[0m\u001b[0;34m,\u001b[0m \u001b[0mencoding\u001b[0m\u001b[0;34m=\u001b[0m\u001b[0mencoding\u001b[0m\u001b[0;34m)\u001b[0m\u001b[0;34m\u001b[0m\u001b[0;34m\u001b[0m\u001b[0m\n\u001b[0m\u001b[1;32m    918\u001b[0m             \u001b[0mfencoding\u001b[0m \u001b[0;34m=\u001b[0m \u001b[0mgetattr\u001b[0m\u001b[0;34m(\u001b[0m\u001b[0mfh\u001b[0m\u001b[0;34m,\u001b[0m \u001b[0;34m'encoding'\u001b[0m\u001b[0;34m,\u001b[0m \u001b[0;34m'latin1'\u001b[0m\u001b[0;34m)\u001b[0m\u001b[0;34m\u001b[0m\u001b[0;34m\u001b[0m\u001b[0m\n\u001b[1;32m    919\u001b[0m             \u001b[0mfh\u001b[0m \u001b[0;34m=\u001b[0m \u001b[0miter\u001b[0m\u001b[0;34m(\u001b[0m\u001b[0mfh\u001b[0m\u001b[0;34m)\u001b[0m\u001b[0;34m\u001b[0m\u001b[0;34m\u001b[0m\u001b[0m\n",
      "\u001b[0;32m~/.local/lib/python3.6/site-packages/numpy/lib/_datasource.py\u001b[0m in \u001b[0;36mopen\u001b[0;34m(path, mode, destpath, encoding, newline)\u001b[0m\n\u001b[1;32m    258\u001b[0m \u001b[0;34m\u001b[0m\u001b[0m\n\u001b[1;32m    259\u001b[0m     \u001b[0mds\u001b[0m \u001b[0;34m=\u001b[0m \u001b[0mDataSource\u001b[0m\u001b[0;34m(\u001b[0m\u001b[0mdestpath\u001b[0m\u001b[0;34m)\u001b[0m\u001b[0;34m\u001b[0m\u001b[0;34m\u001b[0m\u001b[0m\n\u001b[0;32m--> 260\u001b[0;31m     \u001b[0;32mreturn\u001b[0m \u001b[0mds\u001b[0m\u001b[0;34m.\u001b[0m\u001b[0mopen\u001b[0m\u001b[0;34m(\u001b[0m\u001b[0mpath\u001b[0m\u001b[0;34m,\u001b[0m \u001b[0mmode\u001b[0m\u001b[0;34m,\u001b[0m \u001b[0mencoding\u001b[0m\u001b[0;34m=\u001b[0m\u001b[0mencoding\u001b[0m\u001b[0;34m,\u001b[0m \u001b[0mnewline\u001b[0m\u001b[0;34m=\u001b[0m\u001b[0mnewline\u001b[0m\u001b[0;34m)\u001b[0m\u001b[0;34m\u001b[0m\u001b[0;34m\u001b[0m\u001b[0m\n\u001b[0m\u001b[1;32m    261\u001b[0m \u001b[0;34m\u001b[0m\u001b[0m\n\u001b[1;32m    262\u001b[0m \u001b[0;34m\u001b[0m\u001b[0m\n",
      "\u001b[0;32m~/.local/lib/python3.6/site-packages/numpy/lib/_datasource.py\u001b[0m in \u001b[0;36mopen\u001b[0;34m(self, path, mode, encoding, newline)\u001b[0m\n\u001b[1;32m    614\u001b[0m                                       encoding=encoding, newline=newline)\n\u001b[1;32m    615\u001b[0m         \u001b[0;32melse\u001b[0m\u001b[0;34m:\u001b[0m\u001b[0;34m\u001b[0m\u001b[0;34m\u001b[0m\u001b[0m\n\u001b[0;32m--> 616\u001b[0;31m             \u001b[0;32mraise\u001b[0m \u001b[0mIOError\u001b[0m\u001b[0;34m(\u001b[0m\u001b[0;34m\"%s not found.\"\u001b[0m \u001b[0;34m%\u001b[0m \u001b[0mpath\u001b[0m\u001b[0;34m)\u001b[0m\u001b[0;34m\u001b[0m\u001b[0;34m\u001b[0m\u001b[0m\n\u001b[0m\u001b[1;32m    617\u001b[0m \u001b[0;34m\u001b[0m\u001b[0m\n\u001b[1;32m    618\u001b[0m \u001b[0;34m\u001b[0m\u001b[0m\n",
      "\u001b[0;31mOSError\u001b[0m: test.csv not found."
     ]
    }
   ],
   "source": [
    "# to use quadratic function for prediction function\n",
    "import numpy as np\n",
    "import matplotlib.pyplot as plt\n",
    "import csv\n",
    "import time\n",
    "x = [235,216,148,35,85,204,49,25,173,191,134,99,117,112,162,272]\n",
    "y = [591,539,413,310,308,519,325,332,498,498,392,334,385,387,425,659]\n",
    "x = np.array(x)\n",
    "y = np.array(y)\n",
    "\n",
    "\n",
    "with open('click.csv', mode='w' ,newline='', encoding='utf-8') as csvfile:\n",
    "    writer = csv.writer(csvfile, delimiter=',')\n",
    "    writer.writerow(['x', 'y'])\n",
    "    for row in range(len(x)):\n",
    "        writer.writerow([x[row], y[row]])\n",
    "# load data for training        \n",
    "train = np.loadtxt('click.csv', delimiter=',', skiprows=1)\n",
    "\n",
    "train_x = train[:,0]\n",
    "train_y = train[:,1]\n",
    "print(train_x)\n",
    "\n",
    "# initial theta for prediction function\n",
    "theta0 = np.random.rand()\n",
    "theta1 = np.random.rand()\n",
    "theta2 = np.random.rand()\n",
    "\n",
    "#define prediction function \n",
    "\n",
    "def f(x):\n",
    "    return theta0 + theta1*x + theta2*(x**2)\n",
    "\n",
    "#define loss function or cost function(also can call 'target function')\n",
    "\n",
    "def E(x,y):\n",
    "    return 0.5*np.sum((f(x)-y)**2)\n",
    "\n",
    "# need to standardization for x, it will let convergence faster\n",
    "mean = train_x.mean()\n",
    "sigma = train_x.std()\n",
    "\n",
    "\n",
    "def standardization(x):\n",
    "    return (x-mean)/sigma\n",
    "\n",
    "train_z = standardization(train_x)\n",
    "#define diff for initial data\n",
    "diff = 1\n",
    "\n",
    "learning_rate = 0.001\n",
    "\n",
    "count = 0\n",
    "# to give error for caculate diff\n",
    "\n",
    "error = E(train_z, train_y)\n",
    "\n",
    "while diff > 1e-3:\n",
    "    \n",
    "    tmp0 = theta0 - learning_rate*np.sum((f(train_z)-y))\n",
    "    tmp1 = theta1 - learning_rate*np.sum((f(train_z)-y)*train_z)\n",
    "    tmp2 = theta2 - learning_rate*np.sum((f(train_z)-y)*train_z**2)\n",
    "    \n",
    "    theta0 = tmp0\n",
    "    theta1 = tmp1\n",
    "    theta2 = tmp2\n",
    "    \n",
    "    #to update diff by reduce error\n",
    "    current_error = E(train_z, train_y)\n",
    "    diff = error-current_error\n",
    "    error = current_error\n",
    "    \n",
    "    count +=1\n",
    "    if count%100 ==0:\n",
    "        log = '{} time : theta0 = {:.3f}, theta1 = {:.3f}, theta2 = {:.3f}, diff= {:.4f}, error={:.4f}'\n",
    "        print(log.format(count, theta0, theta1, theta2, diff,error))\n",
    "    \n",
    "x = np.linspace(-3,3,100)\n",
    "# plot real data\n",
    "plt.plot(train_z, train_y, '*')\n",
    "\n",
    "# plot predict line\n",
    "plt.plot(x, f(x))\n",
    "plt.show()\n",
    "\n",
    "# to implement the input dat to get the output of prediction(need to take care is input data need to standardization)\n",
    "test_x = np.loadtxt('test.csv', delimiter=',',skiprows=1)\n",
    "\n",
    "for i in range(len(test_x)):\n",
    "    with open('test_1.csv', mode='w', newline='') as resultcsv:\n",
    "        writer = csv.writer(resultcsv, delimiter=',')\n",
    "        writer.writerow(['x','y'])\n",
    "        for row in range(len(test_x)):\n",
    "            writer.writerow([int(test_x[row]),f(standardization(test_x[row]))])\n",
    "    #print(f(standardization(test_x[i])))\n",
    "#For git-cola test\n",
    "#For git-cola test-2"
   ]
  },
  {
   "cell_type": "code",
   "execution_count": 2,
   "metadata": {},
   "outputs": [],
   "source": [
    "import os"
   ]
  },
  {
   "cell_type": "code",
   "execution_count": 1,
   "metadata": {},
   "outputs": [],
   "source": [
    "import tensorflow"
   ]
  },
  {
   "cell_type": "code",
   "execution_count": null,
   "metadata": {},
   "outputs": [],
   "source": []
  }
 ],
 "metadata": {
  "kernelspec": {
   "display_name": "Python 3",
   "language": "python",
   "name": "python3"
  },
  "language_info": {
   "codemirror_mode": {
    "name": "ipython",
    "version": 3
   },
   "file_extension": ".py",
   "mimetype": "text/x-python",
   "name": "python",
   "nbconvert_exporter": "python",
   "pygments_lexer": "ipython3",
   "version": "3.6.7"
  }
 },
 "nbformat": 4,
 "nbformat_minor": 2
}
